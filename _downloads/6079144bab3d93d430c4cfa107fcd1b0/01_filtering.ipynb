{
  "cells": [
    {
      "cell_type": "markdown",
      "metadata": {},
      "source": [
        "\n# Filtering\n\nA simple example to demonstrate how to filter a parquet file using a pandas-like expression.\n\nThis example uses the `parq_tools` library to filter a Parquet file based on a specified condition.\nPyarrow filtering is not structured like the filtering in pandas, but parq-tools uses custom parser\nallowing pandas-like expressions to be used.\n"
      ]
    },
    {
      "cell_type": "code",
      "execution_count": null,
      "metadata": {
        "collapsed": false
      },
      "outputs": [],
      "source": [
        "import tempfile\n\nimport pandas as pd\nimport pyarrow as pa\nimport pyarrow.parquet as pq\nfrom pathlib import Path"
      ]
    },
    {
      "cell_type": "markdown",
      "metadata": {},
      "source": [
        "## Create a Parquet file\n\nCreate a temporary parquet file for demonstration\n\n"
      ]
    },
    {
      "cell_type": "code",
      "execution_count": null,
      "metadata": {
        "collapsed": false
      },
      "outputs": [],
      "source": [
        "def create_parquet_file(file_path: Path):\n    # Define the dataset\n    data = {\n        \"x\": range(1, 11),  # Index column\n        \"y\": range(11, 21),  # Index column\n        \"z\": range(21, 31),  # Index column\n        \"a\": [f\"val{i}\" for i in range(1, 11)],  # Supplementary column\n        \"b\": [i * 2 for i in range(1, 11)],  # Supplementary column\n        \"c\": [i % 3 for i in range(1, 11)],  # Supplementary column\n    }\n\n    # Create a DataFrame\n    df = pa.Table.from_pydict(data)\n\n    # Write the DataFrame to a Parquet file\n    pq.write_table(df, file_path)\n\n\nparquet_file_path = Path(tempfile.gettempdir()) / \"example_data.parquet\"\ncreate_parquet_file(parquet_file_path)"
      ]
    },
    {
      "cell_type": "markdown",
      "metadata": {},
      "source": [
        "View the file as a DataFrame\n\n"
      ]
    },
    {
      "cell_type": "code",
      "execution_count": null,
      "metadata": {
        "collapsed": false
      },
      "outputs": [],
      "source": [
        "df = pd.read_parquet(parquet_file_path)\ndf"
      ]
    },
    {
      "cell_type": "markdown",
      "metadata": {},
      "source": [
        "## Filter with Pandas\n\nWe can use pandas directly to load the Parquet file and filter it using a pandas-like expression.\nFirst we filter early with read_parquet for efficiency.  Additionally, we have manually set the index in this example.\n\n"
      ]
    },
    {
      "cell_type": "code",
      "execution_count": null,
      "metadata": {
        "collapsed": false
      },
      "outputs": [],
      "source": [
        "index_cols = [\"x\", \"y\", \"z\"]\ndf_from_pandas_1: pd.DataFrame = pd.read_parquet(parquet_file_path,\n                                                 columns=[\"x\", \"y\", \"z\", \"a\", \"c\"],\n                                                 filters=[(\"x\", \">\", 3), (\"y\", \"<=\", 15)]).set_index(index_cols)\ndf_from_pandas_1"
      ]
    },
    {
      "cell_type": "markdown",
      "metadata": {},
      "source": [
        "An alternative but less efficient way is to load all records and then apply a filter\n\n"
      ]
    },
    {
      "cell_type": "code",
      "execution_count": null,
      "metadata": {
        "collapsed": false
      },
      "outputs": [],
      "source": [
        "df_from_pandas_2 = pd.read_parquet(parquet_file_path,\n                                   columns=[\"x\", \"y\", \"z\", \"a\", \"c\"]).query(\"x > 3 and y <= 15\").set_index(index_cols)\n\ndf_from_pandas_2"
      ]
    },
    {
      "cell_type": "markdown",
      "metadata": {},
      "source": [
        "Compare the two DataFrames to ensure they are equal\n\n"
      ]
    },
    {
      "cell_type": "code",
      "execution_count": null,
      "metadata": {
        "collapsed": false
      },
      "outputs": [],
      "source": [
        "pd.testing.assert_frame_equal(df_from_pandas_1, df_from_pandas_2)"
      ]
    },
    {
      "cell_type": "markdown",
      "metadata": {},
      "source": [
        "## Filter with Parq Tools\n\nThe `parq_tools` library provides a way to filter Parquet files that do not fit into memory,\nusing a pandas-like expression.  The output is a new Parquet file containing only the filtered records\nand selected columns.  This can be useful in pipelines with large datasets.\n\n"
      ]
    },
    {
      "cell_type": "code",
      "execution_count": null,
      "metadata": {
        "collapsed": false
      },
      "outputs": [],
      "source": [
        "from parq_tools import filter_parquet_file\n\nfilter_parquet_file(parquet_file_path,\n                    output_path=parquet_file_path.with_suffix('.filtered.parquet'),\n                    columns=[\"x\", \"y\", \"z\", \"a\", \"c\"], filter_expression='x > 3 and y <= 15',\n                    show_progress=True)"
      ]
    },
    {
      "cell_type": "markdown",
      "metadata": {},
      "source": [
        "Read the filtered Parquet file\n\n"
      ]
    },
    {
      "cell_type": "code",
      "execution_count": null,
      "metadata": {
        "collapsed": false
      },
      "outputs": [],
      "source": [
        "df_filtered = pd.read_parquet(parquet_file_path.with_suffix('.filtered.parquet')).set_index(index_cols)\ndf_filtered"
      ]
    },
    {
      "cell_type": "markdown",
      "metadata": {},
      "source": [
        "Compare the filtered DataFrame with the one from pandas\n\n"
      ]
    },
    {
      "cell_type": "code",
      "execution_count": null,
      "metadata": {
        "collapsed": false
      },
      "outputs": [],
      "source": [
        "pd.testing.assert_frame_equal(df_filtered, df_from_pandas_1)"
      ]
    }
  ],
  "metadata": {
    "kernelspec": {
      "display_name": "Python 3",
      "language": "python",
      "name": "python3"
    },
    "language_info": {
      "codemirror_mode": {
        "name": "ipython",
        "version": 3
      },
      "file_extension": ".py",
      "mimetype": "text/x-python",
      "name": "python",
      "nbconvert_exporter": "python",
      "pygments_lexer": "ipython3",
      "version": "3.12.3"
    }
  },
  "nbformat": 4,
  "nbformat_minor": 0
}