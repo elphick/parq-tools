{
  "cells": [
    {
      "cell_type": "markdown",
      "metadata": {},
      "source": [
        "\n# Tall Concatenation\n\nThis example demonstrates how to concatenate multiple Parquet files along rows (tall concatenation)\nusing the `parq_tools` library. It also shows how to achieve the same result with `pandas.concat`\nand verifies that the outputs are equivalent.\n\nTall concatenation combines all rows from each file, aligning columns by name. Columns missing in some files\nare filled with nulls.\n"
      ]
    },
    {
      "cell_type": "code",
      "execution_count": null,
      "metadata": {
        "collapsed": false
      },
      "outputs": [],
      "source": [
        "import pandas as pd\nfrom parq_tools import ParquetConcat\nfrom pathlib import Path\nimport tempfile"
      ]
    },
    {
      "cell_type": "markdown",
      "metadata": {},
      "source": [
        "## Create Example Parquet Files\n\nWe create three example Parquet files with overlapping and unique columns.\n\n"
      ]
    },
    {
      "cell_type": "code",
      "execution_count": null,
      "metadata": {
        "collapsed": false
      },
      "outputs": [],
      "source": [
        "def create_example_parquet(file_path: Path, data: dict):\n    df = pd.DataFrame(data)\n    df.to_parquet(file_path, index=False)\n\n\ntemp_dir = Path(tempfile.gettempdir()) / \"parquet_tall_concat_example\"\ntemp_dir.mkdir(parents=True, exist_ok=True)\n\ndata1 = {\n    \"x\": [1, 2, 3],\n    \"y\": [4, 5, 6],\n    \"z\": [7, 8, 9],\n    \"a\": [\"A\", \"B\", \"C\"],\n    \"b\": [1.0, 2.0, 3.0]\n}\ndata2 = {\n    \"x\": [4, 5, 6],\n    \"y\": [7, 8, 9],\n    \"z\": [10, 11, 12],\n    \"a\": [\"D\", \"E\", \"F\"],\n    \"b\": [3.0, 4.0, 5.0]\n}\ndata3 = {\n    \"x\": [7, 8, 9],\n    \"y\": [10, 11, 12],\n    \"z\": [13, 14, 15],\n    \"a\": [\"G\", \"H\", \"I\"],\n    \"b\": [6.0, 7.0, 8.0],\n    \"c\": [\"J\", \"K\", \"L\"]\n}\n\ninput_files = [\n    temp_dir / \"example_data1.parquet\",\n    temp_dir / \"example_data2.parquet\",\n    temp_dir / \"example_data3.parquet\"\n]\n\ncreate_example_parquet(input_files[0], data1)\ncreate_example_parquet(input_files[1], data2)\ncreate_example_parquet(input_files[2], data3)"
      ]
    },
    {
      "cell_type": "markdown",
      "metadata": {},
      "source": [
        "## Tall Concatenation with Pandas\n\nThis approach loads all data into memory and concatenates along rows.\n\n"
      ]
    },
    {
      "cell_type": "code",
      "execution_count": null,
      "metadata": {
        "collapsed": false
      },
      "outputs": [],
      "source": [
        "index_cols = [\"x\", \"y\", \"z\"]\n\ndfs = [pd.read_parquet(f) for f in input_files]\ntall_result_pandas = pd.concat(dfs, axis=0, ignore_index=True).set_index(index_cols)\ntall_result_pandas"
      ]
    },
    {
      "cell_type": "markdown",
      "metadata": {},
      "source": [
        "## Tall Concatenation with Parq Tools\n\nThis approach is more efficient for large datasets, as it processes data in chunks.\n\n"
      ]
    },
    {
      "cell_type": "code",
      "execution_count": null,
      "metadata": {
        "collapsed": false
      },
      "outputs": [],
      "source": [
        "output_tall = temp_dir / \"tall_concatenated.parquet\"\ntall_concat = ParquetConcat(files=input_files, axis=0)\ntall_concat.concat_to_file(output_path=output_tall)\n\ntall_result = pd.read_parquet(output_tall).set_index(index_cols)\ntall_result"
      ]
    },
    {
      "cell_type": "markdown",
      "metadata": {},
      "source": [
        "## Compare the Results\n\nEnsure the outputs from both methods are equivalent.\n\n"
      ]
    },
    {
      "cell_type": "code",
      "execution_count": null,
      "metadata": {
        "collapsed": false
      },
      "outputs": [],
      "source": [
        "pd.testing.assert_frame_equal(tall_result, tall_result_pandas)"
      ]
    },
    {
      "cell_type": "markdown",
      "metadata": {},
      "source": [
        "## Tall Concatenation with Filters\n\nYou can also apply a filter expression during concatenation.\n\n"
      ]
    },
    {
      "cell_type": "code",
      "execution_count": null,
      "metadata": {
        "collapsed": false
      },
      "outputs": [],
      "source": [
        "filter_query = \"x > 4 and b >= 5.0\"\noutput_filtered_tall = temp_dir / \"filtered_tall_concatenated.parquet\"\ntall_concat.concat_to_file(\n    output_path=output_filtered_tall,\n    filter_query=filter_query,\n    columns=[\"x\", \"y\", \"z\", \"a\", \"b\"]\n)\nfiltered_tall_result = pd.read_parquet(output_filtered_tall).set_index(index_cols)\nfiltered_tall_result"
      ]
    },
    {
      "cell_type": "markdown",
      "metadata": {},
      "source": [
        "## Concatenate by function\nYou can also concatenate with a function, rather than using the class directly.  The same filtering options are\navailable, and the function will handle the concatenation in a memory-efficient way.\n\n"
      ]
    },
    {
      "cell_type": "code",
      "execution_count": null,
      "metadata": {
        "collapsed": false
      },
      "outputs": [],
      "source": [
        "# concatenate with the function\nfrom parq_tools import concat_parquet_files\n\nconcat_parquet_files(files=input_files, output_path=output_tall.with_suffix('.by_function.parquet'),\n                     axis=0, index_columns=index_cols)\n# Read the filtered concatenated file\nfiltered_wide_function_result = pd.read_parquet(output_tall.with_suffix('.by_function.parquet')).set_index(\n    index_cols)\nfiltered_wide_function_result"
      ]
    }
  ],
  "metadata": {
    "kernelspec": {
      "display_name": "Python 3",
      "language": "python",
      "name": "python3"
    },
    "language_info": {
      "codemirror_mode": {
        "name": "ipython",
        "version": 3
      },
      "file_extension": ".py",
      "mimetype": "text/x-python",
      "name": "python",
      "nbconvert_exporter": "python",
      "pygments_lexer": "ipython3",
      "version": "3.12.3"
    }
  },
  "nbformat": 4,
  "nbformat_minor": 0
}