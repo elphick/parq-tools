{
  "cells": [
    {
      "cell_type": "markdown",
      "metadata": {},
      "source": [
        "\n# Memory Usage\n\nParquet files are compressed columnar data files.  This is great for storage and performance, but\nit can be useful to understand memory by column usage when working with large datasets.  This enables\nthe user to optimise their data processing and storage strategies.\n"
      ]
    },
    {
      "cell_type": "code",
      "execution_count": null,
      "metadata": {
        "collapsed": false
      },
      "outputs": [],
      "source": [
        "import tempfile\n\nimport pandas as pd\nfrom pathlib import Path\n\nfrom parq_tools import ParquetProfileReport\nfrom parq_tools.utils.demo_block_model import create_demo_blockmodel\nfrom parq_tools.utils.memory_utils import parquet_memory_usage, print_parquet_memory_usage"
      ]
    },
    {
      "cell_type": "markdown",
      "metadata": {},
      "source": [
        "## Create a Parquet file for profiling\n\n"
      ]
    },
    {
      "cell_type": "code",
      "execution_count": null,
      "metadata": {
        "collapsed": false
      },
      "outputs": [],
      "source": [
        "temp_dir = Path(tempfile.gettempdir()) / \"memory_usage_example\"\ntemp_dir.mkdir(parents=True, exist_ok=True)\n\nparquet_file_path: Path = temp_dir / \"test_blockmodel.parquet\"\n\n# Create a reasonably large model example\ndf: pd.DataFrame = create_demo_blockmodel(shape=(300, 100, 100), block_size=(10, 10, 5),\n                                          corner=(0, 0, 0))\n# Add a categorical column and a string column\ndf[\"depth_as_string\"] = df[\"depth\"].astype(str)\ndf[\"depth_as_category\"] = pd.Categorical(df[\"depth\"].astype(str))\ndf.to_parquet(parquet_file_path)\nprint(\"Shape:\", df.shape)"
      ]
    },
    {
      "cell_type": "markdown",
      "metadata": {},
      "source": [
        "## Memory usage reports\nGenerate a memory usage report for the Parquet file, various ways.\n\n"
      ]
    },
    {
      "cell_type": "markdown",
      "metadata": {},
      "source": [
        "### Full report with index marking\n\n"
      ]
    },
    {
      "cell_type": "code",
      "execution_count": null,
      "metadata": {
        "collapsed": false
      },
      "outputs": [],
      "source": [
        "report = parquet_memory_usage(parquet_file_path, index_columns=[\"x\", \"y\", \"z\"])\nprint(\"\\nFull memory usage report (with pandas):\")\nprint_parquet_memory_usage(report)"
      ]
    },
    {
      "cell_type": "markdown",
      "metadata": {},
      "source": [
        "### Report without pandas memory usage\n\n"
      ]
    },
    {
      "cell_type": "code",
      "execution_count": null,
      "metadata": {
        "collapsed": false
      },
      "outputs": [],
      "source": [
        "report_no_pandas = parquet_memory_usage(parquet_file_path, report_pandas=False)\nprint(\"\\nMemory usage report (Arrow only, no pandas):\")\nprint_parquet_memory_usage(report_no_pandas)"
      ]
    },
    {
      "cell_type": "markdown",
      "metadata": {},
      "source": [
        "### Report for a subset of columns\n\n"
      ]
    },
    {
      "cell_type": "code",
      "execution_count": null,
      "metadata": {
        "collapsed": false
      },
      "outputs": [],
      "source": [
        "subset_cols = [\"x\", \"y\", \"depth\", \"depth_as_category\"]\nreport_subset = parquet_memory_usage(parquet_file_path, columns=subset_cols, index_columns=[\"x\", \"y\"])\nprint(\"\\nMemory usage report (subset of columns):\")\nprint_parquet_memory_usage(report_subset)"
      ]
    },
    {
      "cell_type": "markdown",
      "metadata": {},
      "source": [
        "### Accessing the structured dictionary\nUseful for programmatic use\n\n"
      ]
    },
    {
      "cell_type": "code",
      "execution_count": null,
      "metadata": {
        "collapsed": false
      },
      "outputs": [],
      "source": [
        "print(\"\\nAccessing the structured dictionary:\")\nprint({k: v for k, v in report[\"columns\"].items() if k in subset_cols})"
      ]
    }
  ],
  "metadata": {
    "kernelspec": {
      "display_name": "Python 3",
      "language": "python",
      "name": "python3"
    },
    "language_info": {
      "codemirror_mode": {
        "name": "ipython",
        "version": 3
      },
      "file_extension": ".py",
      "mimetype": "text/x-python",
      "name": "python",
      "nbconvert_exporter": "python",
      "pygments_lexer": "ipython3",
      "version": "3.12.3"
    }
  },
  "nbformat": 4,
  "nbformat_minor": 0
}