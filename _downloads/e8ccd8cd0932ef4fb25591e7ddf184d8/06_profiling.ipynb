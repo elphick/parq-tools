{
  "cells": [
    {
      "cell_type": "markdown",
      "metadata": {},
      "source": [
        "\n# Parquet Profiling\n\n`ydata-profiling` provides a convenient way to profile Parquet files using the `ProfileReport` class.\nTheir documentation provides options for profiling large datasets.  This example describes an alternative approach.\n\nIn cases where a parquet may be very wide, and you want to profile it column by column, you can use the\n`ParquetProfileReport` class from the `parq_tools.utils.profile_utils` module.\nThis allows you to generate a profile report by loading columns in batches, reducing memory consumption.\n"
      ]
    },
    {
      "cell_type": "code",
      "execution_count": null,
      "metadata": {
        "collapsed": false
      },
      "outputs": [],
      "source": [
        "import tempfile\n\nimport pandas as pd\nfrom pathlib import Path\n\nfrom parq_tools import ParquetProfileReport"
      ]
    },
    {
      "cell_type": "markdown",
      "metadata": {},
      "source": [
        "## Create a Parquet file for profiling\n\n"
      ]
    },
    {
      "cell_type": "code",
      "execution_count": null,
      "metadata": {
        "collapsed": false
      },
      "outputs": [],
      "source": [
        "temp_dir = Path(tempfile.gettempdir()) / \"profile_parquet_example\"\ntemp_dir.mkdir(parents=True, exist_ok=True)\n\n# Create a sample DataFrame and save as Parquet\ndf = pd.DataFrame({\n    \"col1\": range(100),\n    \"col2\": [\"a\"] * 100,\n    \"col3\": [True, False] * 50,\n})\nparquet_path = temp_dir / \"example.parquet\"\ndf.to_parquet(parquet_path)"
      ]
    },
    {
      "cell_type": "markdown",
      "metadata": {},
      "source": [
        "## Profile by column\nThe `ParquetProfileReport` class allows you to profile a Parquet file by loading columns in batches.\n\nWhile we are profiling 3 columns, the 4th progress step is used to capture the merging process.\n\n"
      ]
    },
    {
      "cell_type": "code",
      "execution_count": null,
      "metadata": {
        "collapsed": false
      },
      "outputs": [],
      "source": [
        "report = ParquetProfileReport(\n    parquet_path=parquet_path,\n    columns=None,  # None means all columns\n    batch_size=1,  # Process 1 column at a time\n    show_progress=True,\n)\nreport.profile()\n\nreport.show()"
      ]
    },
    {
      "cell_type": "markdown",
      "metadata": {},
      "source": [
        "## Run native ydata-profiling\nAs expected the native report runs faster, and only requires 3 steps.\n\n"
      ]
    },
    {
      "cell_type": "code",
      "execution_count": null,
      "metadata": {
        "collapsed": false
      },
      "outputs": [],
      "source": [
        "report = ParquetProfileReport(\n    parquet_path=parquet_path,\n    batch_size=None,  # None batch size will run standard ydata-profiling ProfileReport\n    show_progress=True,\n)\nreport.profile().show()"
      ]
    }
  ],
  "metadata": {
    "kernelspec": {
      "display_name": "Python 3",
      "language": "python",
      "name": "python3"
    },
    "language_info": {
      "codemirror_mode": {
        "name": "ipython",
        "version": 3
      },
      "file_extension": ".py",
      "mimetype": "text/x-python",
      "name": "python",
      "nbconvert_exporter": "python",
      "pygments_lexer": "ipython3",
      "version": "3.12.3"
    }
  },
  "nbformat": 4,
  "nbformat_minor": 0
}