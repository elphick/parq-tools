{
  "cells": [
    {
      "cell_type": "markdown",
      "metadata": {},
      "source": [
        "\n# Wide Concatenation\n\nThis example demonstrates how to wide concatenate multiple parquet files into new parquet files using the\n`parq_tools` library and compares the results with `pandas.concat`.\n"
      ]
    },
    {
      "cell_type": "code",
      "execution_count": null,
      "metadata": {
        "collapsed": false
      },
      "outputs": [],
      "source": [
        "import pandas as pd\nfrom parq_tools import ParquetConcat\nfrom pathlib import Path\nimport tempfile\n\n# Create a temporary directory for the output files\ntemp_dir = Path(tempfile.gettempdir()) / \"parquet_concat_example\"\ntemp_dir.mkdir(parents=True, exist_ok=True)\n\n# Define the input Parquet files\ninput_files = [\n    temp_dir / \"example_data1.parquet\",\n    temp_dir / \"example_data2.parquet\",\n    temp_dir / \"example_data3.parquet\"\n]\n\n\n# Create example Parquet files\ndef create_example_parquet(file_path: Path, data: dict):\n    df = pd.DataFrame(data)\n    df.to_parquet(file_path, index=False)\n\n\n# Example data for the Parquet files\ndata1 = {\n    \"x\": [1, 2, 3],\n    \"y\": [4, 5, 6],\n    \"z\": [7, 8, 9],\n    \"a\": [\"A\", \"B\", \"C\"]\n}\n\ndata2 = {\n    \"x\": [1, 2, 3],\n    \"y\": [4, 5, 6],\n    \"z\": [7, 8, 9],\n    \"b\": [6.0, 7.0, 8.0],\n    \"c\": [\"G\", \"H\", \"I\"]\n}\n\ndata3 = {\n    \"x\": [1, 2, 3],\n    \"y\": [4, 5, 6],\n    \"z\": [7, 8, 9],\n    \"d\": [\"J\", \"K\", \"L\"]\n}\n\n# Create the Parquet files\ncreate_example_parquet(input_files[0], data1)\ncreate_example_parquet(input_files[1], data2)\ncreate_example_parquet(input_files[2], data3)"
      ]
    },
    {
      "cell_type": "markdown",
      "metadata": {},
      "source": [
        "## Perform Wide Concatenation with Pandas\nThis approach is fine subject to memory constraints, as it loads all data into memory.\n\n"
      ]
    },
    {
      "cell_type": "code",
      "execution_count": null,
      "metadata": {
        "collapsed": false
      },
      "outputs": [],
      "source": [
        "index_cols = [\"x\", \"y\", \"z\"]\n\ndfs = [pd.read_parquet(file).set_index(index_cols) for file in input_files]\nwide_result_pandas = pd.concat(dfs, axis=1)\nwide_result_pandas"
      ]
    },
    {
      "cell_type": "markdown",
      "metadata": {},
      "source": [
        "## Perform Wide Concatenation with Parq Tools\nThis approach is more efficient for large datasets, as it processes data in chunks.\n\n"
      ]
    },
    {
      "cell_type": "code",
      "execution_count": null,
      "metadata": {
        "collapsed": false
      },
      "outputs": [],
      "source": [
        "output_wide = temp_dir / \"wide_concatenated.parquet\"\n\n# Initialize the ParquetConcat class for wide concatenation\nwide_concat = ParquetConcat(files=input_files, axis=1, index_columns=index_cols)\n\n# Perform the concatenation\nwide_concat.concat_to_file(output_path=output_wide)\n\n# Read the concatenated file\nwide_result = pd.read_parquet(output_wide).set_index(index_cols)\nwide_result"
      ]
    },
    {
      "cell_type": "markdown",
      "metadata": {},
      "source": [
        "Compare the results\n\n"
      ]
    },
    {
      "cell_type": "code",
      "execution_count": null,
      "metadata": {
        "collapsed": false
      },
      "outputs": [],
      "source": [
        "pd.testing.assert_frame_equal(wide_result, wide_result_pandas)"
      ]
    },
    {
      "cell_type": "markdown",
      "metadata": {},
      "source": [
        "## Wide concatenation with filters\nYou can also apply filters during the concatenation process.\nThe filter expression is pandas-like and can include index and non-index columns.\nThis re-uses the `ParquetConcat` object created earlier to filter and concatenate the data.\n\n"
      ]
    },
    {
      "cell_type": "code",
      "execution_count": null,
      "metadata": {
        "collapsed": false
      },
      "outputs": [],
      "source": [
        "filter_query = \"x > 2 and b > 6\"\noutput_filtered_wide = temp_dir / \"filtered_wide_concatenated.parquet\"\n# Perform the concatenation with a filter\nwide_concat.concat_to_file(\n    output_path=output_filtered_wide,\n    filter_query=filter_query,\n    columns=[\"a\", \"b\", \"d\"]\n)\n# Read the filtered concatenated file\nfiltered_wide_result = pd.read_parquet(output_filtered_wide).set_index(index_cols)\nfiltered_wide_result"
      ]
    },
    {
      "cell_type": "markdown",
      "metadata": {},
      "source": [
        "## Concatenate by function\nYou can also concatenate with a function, rather than using the class directly.  The same filtering options are\navailable, and the function will handle the concatenation in a memory-efficient way.\n\n"
      ]
    },
    {
      "cell_type": "code",
      "execution_count": null,
      "metadata": {
        "collapsed": false
      },
      "outputs": [],
      "source": [
        "# concatenate with the function\nfrom parq_tools import concat_parquet_files\n\nconcat_parquet_files(files=input_files, output_path=output_wide.with_suffix('.by_function.parquet'),\n                     axis=1, index_columns=index_cols)\n# Read the filtered concatenated file\nfiltered_wide_function_result = pd.read_parquet(output_wide.with_suffix('.by_function.parquet')).set_index(\n    index_cols)\nfiltered_wide_function_result"
      ]
    }
  ],
  "metadata": {
    "kernelspec": {
      "display_name": "Python 3",
      "language": "python",
      "name": "python3"
    },
    "language_info": {
      "codemirror_mode": {
        "name": "ipython",
        "version": 3
      },
      "file_extension": ".py",
      "mimetype": "text/x-python",
      "name": "python",
      "nbconvert_exporter": "python",
      "pygments_lexer": "ipython3",
      "version": "3.12.3"
    }
  },
  "nbformat": 4,
  "nbformat_minor": 0
}