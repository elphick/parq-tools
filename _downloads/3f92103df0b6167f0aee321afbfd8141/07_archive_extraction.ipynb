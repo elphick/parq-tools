{
  "cells": [
    {
      "cell_type": "markdown",
      "metadata": {},
      "source": [
        "\n# Archive Extraction\n\nThis example demonstrates how to extract archives using the `parq_tools` library. The utility supports\nboth standard extraction using Python's `zipfile` module and a fallback to `7-Zip` for cases where\nunsupported compression methods, such as Deflate64, are used.\n\n## Use Case\nLarge files zipped in Windows can result in compression with Deflate64. In such cases,\n`parq_tools` provides a fallback mechanism to use `7-Zip` for extraction.\n"
      ]
    },
    {
      "cell_type": "code",
      "execution_count": null,
      "metadata": {
        "collapsed": false
      },
      "outputs": [],
      "source": [
        "from pathlib import Path\nimport tempfile\nfrom parq_tools.utils.archive_utils import extract_archive"
      ]
    },
    {
      "cell_type": "markdown",
      "metadata": {},
      "source": [
        "## Create an Example Archive\n\nFor demonstration purposes, we create a simple ZIP archive. Note that this example assumes the archive\ndoes not use unsupported compression methods like Deflate64. If such a method is used, the fallback\nto `7-Zip` will be triggered during extraction.\n\n"
      ]
    },
    {
      "cell_type": "code",
      "execution_count": null,
      "metadata": {
        "collapsed": false
      },
      "outputs": [],
      "source": [
        "import zipfile\n\ndef create_example_archive(archive_path: Path):\n    with zipfile.ZipFile(archive_path, 'w') as zipf:\n        zipf.writestr(\"example.txt\", \"This is an example file.\")\n\n# Create a temporary directory and archive\ntemp_dir = Path(tempfile.gettempdir()) / \"archive_example\"\ntemp_dir.mkdir(parents=True, exist_ok=True)\nexample_archive = temp_dir / \"example.zip\"\ncreate_example_archive(example_archive)"
      ]
    },
    {
      "cell_type": "markdown",
      "metadata": {},
      "source": [
        "## Extract the Archive\n\nUse the `extract_archive` function to extract the contents of the archive. If the archive uses an\nunsupported compression method, the function will automatically fall back to `7-Zip` (if installed).\n\n"
      ]
    },
    {
      "cell_type": "code",
      "execution_count": null,
      "metadata": {
        "collapsed": false
      },
      "outputs": [],
      "source": [
        "output_dir = temp_dir / \"extracted\"\nextract_archive(example_archive, output_dir, show_progress=True)"
      ]
    },
    {
      "cell_type": "markdown",
      "metadata": {},
      "source": [
        "## Verify the Extracted Contents\n\nCheck that the extracted file exists and contains the expected content.\n\n"
      ]
    },
    {
      "cell_type": "code",
      "execution_count": null,
      "metadata": {
        "collapsed": false
      },
      "outputs": [],
      "source": [
        "extracted_file = output_dir / \"example.txt\"\nassert extracted_file.exists()\nprint(f\"Extracted file content: {extracted_file.read_text()}\")"
      ]
    }
  ],
  "metadata": {
    "kernelspec": {
      "display_name": "Python 3",
      "language": "python",
      "name": "python3"
    },
    "language_info": {
      "codemirror_mode": {
        "name": "ipython",
        "version": 3
      },
      "file_extension": ".py",
      "mimetype": "text/x-python",
      "name": "python",
      "nbconvert_exporter": "python",
      "pygments_lexer": "ipython3",
      "version": "3.12.3"
    }
  },
  "nbformat": 4,
  "nbformat_minor": 0
}